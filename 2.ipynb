{
 "cells": [
  {
   "cell_type": "code",
   "execution_count": 1,
   "metadata": {},
   "outputs": [],
   "source": [
    "# Cell 1: Import Libraries\n",
    "import pandas as pd\n",
    "import numpy as np\n",
    "from sklearn.preprocessing import MinMaxScaler, LabelEncoder, RobustScaler\n",
    "from sklearn.model_selection import train_test_split, cross_val_score\n",
    "from sklearn.ensemble import RandomForestRegressor\n",
    "from sklearn.metrics import mean_squared_error, r2_score, mean_absolute_error\n",
    "import xgboost as xgb\n",
    "import datetime\n",
    "import matplotlib.pyplot as plt\n",
    "import seaborn as sns"
   ]
  },
  {
   "cell_type": "code",
   "execution_count": 2,
   "metadata": {},
   "outputs": [],
   "source": [
    "# Cell 2: Read Data and Initial Cleaning\n",
    "# Read data\n",
    "df = pd.read_csv('used_car.csv')\n",
    "\n",
    "# Split car names\n",
    "def split_car_name(name):\n",
    "    two_word_companies = ['Land Rover', 'Mercedes Benz', 'Maruti Suzuki', \n",
    "                         'Mercedes-Benz', 'Rolls Royce', 'Mini Cooper', 'MINI Cooper']\n",
    "    name_parts = name.split()\n",
    "    \n",
    "    if ' '.join(name_parts[:2]) in two_word_companies:\n",
    "        company = ' '.join(name_parts[:2])\n",
    "        model = ' '.join(name_parts[2:])\n",
    "    else:\n",
    "        company = name_parts[0]\n",
    "        model = ' '.join(name_parts[1:])\n",
    "    \n",
    "    return pd.Series([company, model], index=['company', 'model'])\n",
    "\n",
    "df[['company', 'model']] = df['car_name'].apply(split_car_name)"
   ]
  },
  {
   "cell_type": "code",
   "execution_count": 3,
   "metadata": {},
   "outputs": [],
   "source": [
    "# Cell 3: Clean Numerical Data\n",
    "# Clean price\n",
    "def clean_price(price_str):\n",
    "    if isinstance(price_str, str):\n",
    "        if 'Lakh' in price_str:\n",
    "            price_str = price_str.replace('₹', '').replace('Lakh', '').strip()\n",
    "            try:\n",
    "                return float(price_str) * 100000\n",
    "            except ValueError:\n",
    "                return None\n",
    "        elif 'Crore' in price_str:\n",
    "            price_str = price_str.replace('₹', '').replace('Crore', '').strip()\n",
    "            try:\n",
    "                return float(price_str) * 10000000\n",
    "            except ValueError:\n",
    "                return None\n",
    "    return price_str\n",
    "\n",
    "df['car_price_in_rupees'] = df['car_price_in_rupees'].apply(clean_price)\n",
    "\n",
    "# Clean kilometers driven\n",
    "def clean_kms_driven(kms_driven_str):\n",
    "    if isinstance(kms_driven_str, str):\n",
    "        kms_driven_str = kms_driven_str.replace('km', '').replace(',', '').strip()\n",
    "        try:\n",
    "            return int(kms_driven_str)\n",
    "        except ValueError:\n",
    "            return None\n",
    "    return kms_driven_str\n",
    "\n",
    "df['kms_driven'] = df['kms_driven'].apply(clean_kms_driven)\n",
    "\n",
    "# Calculate age\n",
    "current_year = datetime.datetime.now().year\n",
    "df['age'] = df['year_of_manufacture'].apply(lambda x: current_year - x)"
   ]
  },
  {
   "cell_type": "code",
   "execution_count": 4,
   "metadata": {},
   "outputs": [
    {
     "name": "stdout",
     "output_type": "stream",
     "text": [
      "Companies and their frequencies:\n",
      "company\n",
      "Maruti Suzuki    567\n",
      "Hyundai          443\n",
      "Honda            225\n",
      "Toyota            93\n",
      "Tata              83\n",
      "Mercedes-Benz     70\n",
      "Ford              70\n",
      "Renault           67\n",
      "Mahindra          65\n",
      "Volkswagen        63\n",
      "Audi              62\n",
      "BMW               56\n",
      "Skoda             49\n",
      "Kia               41\n",
      "Jeep              30\n",
      "MG                27\n",
      "Land Rover        20\n",
      "Nissan            18\n",
      "Name: count, dtype: int64\n"
     ]
    }
   ],
   "source": [
    "# Cell 4: Remove Low Frequency Companies\n",
    "# Count company frequencies\n",
    "company_counts = df['company'].value_counts()\n",
    "frequent_companies = company_counts[company_counts >= 15].index\n",
    "\n",
    "# Filter dataframe\n",
    "df = df[df['company'].isin(frequent_companies)]\n",
    "\n",
    "print(\"Companies and their frequencies:\")\n",
    "print(company_counts[company_counts >= 15])"
   ]
  },
  {
   "cell_type": "code",
   "execution_count": 6,
   "metadata": {},
   "outputs": [
    {
     "name": "stdout",
     "output_type": "stream",
     "text": [
      "Rows remaining after cleaning age: 1781\n",
      "\n",
      "Final shape after removing outliers: (1781, 9)\n"
     ]
    }
   ],
   "source": [
    "# Cell 5: Remove Outliers\n",
    "def remove_outliers(df, columns):\n",
    "    df_clean = df.copy()\n",
    "    \n",
    "    # First convert columns to numeric and handle any non-numeric values\n",
    "    for column in columns:\n",
    "        df_clean[column] = pd.to_numeric(df_clean[column], errors='coerce')\n",
    "    \n",
    "    # Drop rows with NaN values after conversion\n",
    "    df_clean = df_clean.dropna(subset=columns)\n",
    "    \n",
    "    # Now remove outliers\n",
    "    for column in columns:\n",
    "        Q1 = df_clean[column].quantile(0.25)\n",
    "        Q3 = df_clean[column].quantile(0.75)\n",
    "        IQR = Q3 - Q1\n",
    "        lower_bound = Q1 - 1.5 * IQR\n",
    "        upper_bound = Q3 + 1.5 * IQR\n",
    "        \n",
    "        df_clean = df_clean[\n",
    "            (df_clean[column] >= lower_bound) & \n",
    "            (df_clean[column] <= upper_bound)\n",
    "        ]\n",
    "    \n",
    "    print(f\"Rows remaining after cleaning {column}: {len(df_clean)}\")\n",
    "    return df_clean\n",
    "\n",
    "# Remove outliers from numerical columns\n",
    "numerical_columns = ['car_price_in_rupees', 'kms_driven', 'age']\n",
    "df = remove_outliers(df, numerical_columns)\n",
    "\n",
    "print(\"\\nFinal shape after removing outliers:\", df.shape)"
   ]
  },
  {
   "cell_type": "code",
   "execution_count": 7,
   "metadata": {},
   "outputs": [],
   "source": [
    "# Cell 6: Feature Engineering\n",
    "# Create interaction features\n",
    "df['price_per_km'] = df['car_price_in_rupees'] / (df['kms_driven'] + 1)\n",
    "df['price_per_year'] = df['car_price_in_rupees'] / (df['age'] + 1)\n",
    "df['km_per_year'] = df['kms_driven'] / (df['age'] + 1)\n",
    "\n",
    "# Create categorical features\n",
    "df['price_segment'] = pd.qcut(df['car_price_in_rupees'], q=5, \n",
    "                            labels=['Very Low', 'Low', 'Medium', 'High', 'Very High'])\n",
    "df['age_category'] = pd.cut(df['age'], \n",
    "                          bins=[0, 3, 6, 9, 12, float('inf')],\n",
    "                          labels=['New', 'Slightly Used', 'Used', 'Old', 'Very Old'])"
   ]
  },
  {
   "cell_type": "code",
   "execution_count": 9,
   "metadata": {},
   "outputs": [
    {
     "name": "stdout",
     "output_type": "stream",
     "text": [
      "\n",
      "Columns in X: ['car_name', 'kms_driven', 'fuel_type', 'city', 'year_of_manufacture', 'company', 'model', 'age', 'price_per_km', 'price_per_year', 'km_per_year', 'price_segment', 'age_category']\n",
      "\n",
      "Datatypes of columns:\n",
      "car_name                 int32\n",
      "kms_driven               int64\n",
      "fuel_type                int32\n",
      "city                     int32\n",
      "year_of_manufacture      int64\n",
      "company                  int32\n",
      "model                    int32\n",
      "age                      int64\n",
      "price_per_km           float64\n",
      "price_per_year         float64\n",
      "km_per_year            float64\n",
      "price_segment            int32\n",
      "age_category             int32\n",
      "dtype: object\n"
     ]
    },
    {
     "data": {
      "image/png": "[encoded data removed]",
      "text/plain": [
       "<Figure size 1200x800 with 1 Axes>"
      ]
     },
     "metadata": {},
     "output_type": "display_data"
    },
    {
     "name": "stdout",
     "output_type": "stream",
     "text": [
      "\n",
      "Selected features:\n",
      "1. price_per_year\n",
      "2. price_segment\n"
     ]
    }
   ],
   "source": [
    "# Cell 7: Feature Selection using Random Forest\n",
    "# Prepare data for feature importance\n",
    "X = df.drop(['car_price_in_rupees'], axis=1)  # Only drop the target variable\n",
    "y = df['car_price_in_rupees']\n",
    "\n",
    "# Convert categorical variables to numeric\n",
    "categorical_columns = X.select_dtypes(include=['object', 'category']).columns  # Include category dtype\n",
    "for col in categorical_columns:\n",
    "    try:\n",
    "        le = LabelEncoder()\n",
    "        X[col] = le.fit_transform(X[col].astype(str))  # Convert to string first\n",
    "    except Exception as e:\n",
    "        print(f\"Error encoding column {col}: {str(e)}\")\n",
    "        print(f\"Unique values in {col}:\", X[col].unique())\n",
    "\n",
    "# Print column information for debugging\n",
    "print(\"\\nColumns in X:\", X.columns.tolist())\n",
    "print(\"\\nDatatypes of columns:\")\n",
    "print(X.dtypes)\n",
    "\n",
    "# Train Random Forest for feature importance\n",
    "rf = RandomForestRegressor(n_estimators=100, random_state=42)\n",
    "rf.fit(X, y)\n",
    "\n",
    "# Get feature importance\n",
    "feature_importance = pd.DataFrame({\n",
    "    'feature': X.columns,\n",
    "    'importance': rf.feature_importances_\n",
    "})\n",
    "feature_importance = feature_importance.sort_values('importance', ascending=False)\n",
    "\n",
    "# Plot feature importance\n",
    "plt.figure(figsize=(12, 8))\n",
    "sns.barplot(x='importance', y='feature', data=feature_importance)\n",
    "plt.title('Feature Importance')\n",
    "plt.xlabel('Importance Score')\n",
    "plt.ylabel('Features')\n",
    "plt.tight_layout()\n",
    "plt.show()\n",
    "\n",
    "# Select top features (e.g., top 80% of cumulative importance)\n",
    "cumsum = np.cumsum(feature_importance['importance'])\n",
    "n_features = np.argmax(cumsum >= 0.8) + 1\n",
    "selected_features = feature_importance['feature'].iloc[:n_features].tolist()\n",
    "\n",
    "print(\"\\nSelected features:\")\n",
    "for i, feature in enumerate(selected_features, 1):\n",
    "    print(f\"{i}. {feature}\")"
   ]
  },
  {
   "cell_type": "code",
   "execution_count": 10,
   "metadata": {},
   "outputs": [
    {
     "name": "stdout",
     "output_type": "stream",
     "text": [
      "\n",
      "Final dataset shape: (1781, 3)\n",
      "\n",
      "Final features: ['price_per_year', 'price_segment', 'car_price_in_rupees']\n"
     ]
    }
   ],
   "source": [
    "# Cell 8: Prepare Final Dataset\n",
    "# Keep only selected features and target variable\n",
    "final_features = selected_features + ['car_price_in_rupees']\n",
    "df_final = df[final_features]\n",
    "\n",
    "# Check final dataset\n",
    "print(\"\\nFinal dataset shape:\", df_final.shape)\n",
    "print(\"\\nFinal features:\", df_final.columns.tolist())\n",
    "\n",
    "# Save cleaned dataset\n",
    "df_final.to_csv('cleaned_car_data.csv', index=False)"
   ]
  },
  {
   "cell_type": "code",
   "execution_count": null,
   "metadata": {},
   "outputs": [],
   "source": []
  }
 ],
 "metadata": {
  "kernelspec": {
   "display_name": "Python 3",
   "language": "python",
   "name": "python3"
  },
  "language_info": {
   "codemirror_mode": {
    "name": "ipython",
    "version": 3
   },
   "file_extension": ".py",
   "mimetype": "text/x-python",
   "name": "python",
   "nbconvert_exporter": "python",
   "pygments_lexer": "ipython3",
   "version": "3.12.7"
  }
 },
 "nbformat": 4,
 "nbformat_minor": 2
}
